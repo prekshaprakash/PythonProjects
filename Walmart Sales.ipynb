{
 "cells": [
  {
   "cell_type": "code",
   "execution_count": 1,
   "id": "8f43c434",
   "metadata": {},
   "outputs": [],
   "source": [
    "import pandas as pd"
   ]
  },
  {
   "cell_type": "code",
   "execution_count": 2,
   "id": "d2adc239",
   "metadata": {},
   "outputs": [],
   "source": [
    "import matplotlib.pyplot as plt\n",
    "import seaborn as sns"
   ]
  },
  {
   "cell_type": "code",
   "execution_count": 3,
   "id": "4203de86",
   "metadata": {},
   "outputs": [],
   "source": [
    "data = pd.read_excel(\"Walmart Sales.xlsx\")"
   ]
  },
  {
   "cell_type": "code",
   "execution_count": 4,
   "id": "6030257a",
   "metadata": {},
   "outputs": [
    {
     "data": {
      "text/html": [
       "<div>\n",
       "<style scoped>\n",
       "    .dataframe tbody tr th:only-of-type {\n",
       "        vertical-align: middle;\n",
       "    }\n",
       "\n",
       "    .dataframe tbody tr th {\n",
       "        vertical-align: top;\n",
       "    }\n",
       "\n",
       "    .dataframe thead th {\n",
       "        text-align: right;\n",
       "    }\n",
       "</style>\n",
       "<table border=\"1\" class=\"dataframe\">\n",
       "  <thead>\n",
       "    <tr style=\"text-align: right;\">\n",
       "      <th></th>\n",
       "      <th>Invoice ID</th>\n",
       "      <th>Branch</th>\n",
       "      <th>City</th>\n",
       "      <th>Customer type</th>\n",
       "      <th>Gender</th>\n",
       "      <th>Product line</th>\n",
       "      <th>Unit price</th>\n",
       "      <th>Quantity</th>\n",
       "      <th>Date</th>\n",
       "      <th>Time</th>\n",
       "      <th>Payment</th>\n",
       "      <th>Rating</th>\n",
       "    </tr>\n",
       "  </thead>\n",
       "  <tbody>\n",
       "    <tr>\n",
       "      <th>0</th>\n",
       "      <td>750-67-8428</td>\n",
       "      <td>A</td>\n",
       "      <td>Yangon</td>\n",
       "      <td>Member</td>\n",
       "      <td>Female</td>\n",
       "      <td>Health and beauty</td>\n",
       "      <td>74.69</td>\n",
       "      <td>7</td>\n",
       "      <td>1/5/2019</td>\n",
       "      <td>13:08:00</td>\n",
       "      <td>Ewallet</td>\n",
       "      <td>9.1</td>\n",
       "    </tr>\n",
       "    <tr>\n",
       "      <th>1</th>\n",
       "      <td>226-31-3081</td>\n",
       "      <td>A</td>\n",
       "      <td>Naypyitaw</td>\n",
       "      <td>Normal</td>\n",
       "      <td>Female</td>\n",
       "      <td>Electronic accessories</td>\n",
       "      <td>15.28</td>\n",
       "      <td>5</td>\n",
       "      <td>3/8/2019</td>\n",
       "      <td>10:29:00</td>\n",
       "      <td>Cash</td>\n",
       "      <td>9.6</td>\n",
       "    </tr>\n",
       "    <tr>\n",
       "      <th>2</th>\n",
       "      <td>631-41-3108</td>\n",
       "      <td>A</td>\n",
       "      <td>Yangon</td>\n",
       "      <td>Normal</td>\n",
       "      <td>Male</td>\n",
       "      <td>Home and lifestyle</td>\n",
       "      <td>46.33</td>\n",
       "      <td>7</td>\n",
       "      <td>3/3/2019</td>\n",
       "      <td>13:23:00</td>\n",
       "      <td>Credit card</td>\n",
       "      <td>7.4</td>\n",
       "    </tr>\n",
       "    <tr>\n",
       "      <th>3</th>\n",
       "      <td>123-19-1176</td>\n",
       "      <td>B</td>\n",
       "      <td>Yangon</td>\n",
       "      <td>Member</td>\n",
       "      <td>Male</td>\n",
       "      <td>Health and beauty</td>\n",
       "      <td>58.22</td>\n",
       "      <td>8</td>\n",
       "      <td>1/27/2019</td>\n",
       "      <td>20:33:00</td>\n",
       "      <td>Ewallet</td>\n",
       "      <td>8.4</td>\n",
       "    </tr>\n",
       "    <tr>\n",
       "      <th>4</th>\n",
       "      <td>373-73-7910</td>\n",
       "      <td>C</td>\n",
       "      <td>Yangon</td>\n",
       "      <td>Normal</td>\n",
       "      <td>Male</td>\n",
       "      <td>Sports and travel</td>\n",
       "      <td>86.31</td>\n",
       "      <td>7</td>\n",
       "      <td>2/8/2019</td>\n",
       "      <td>10:37:00</td>\n",
       "      <td>Ewallet</td>\n",
       "      <td>5.3</td>\n",
       "    </tr>\n",
       "  </tbody>\n",
       "</table>\n",
       "</div>"
      ],
      "text/plain": [
       "    Invoice ID Branch       City Customer type  Gender  \\\n",
       "0  750-67-8428      A     Yangon        Member  Female   \n",
       "1  226-31-3081      A  Naypyitaw        Normal  Female   \n",
       "2  631-41-3108      A     Yangon        Normal    Male   \n",
       "3  123-19-1176      B     Yangon        Member    Male   \n",
       "4  373-73-7910      C     Yangon        Normal    Male   \n",
       "\n",
       "             Product line  Unit price  Quantity       Date      Time  \\\n",
       "0       Health and beauty       74.69         7   1/5/2019  13:08:00   \n",
       "1  Electronic accessories       15.28         5   3/8/2019  10:29:00   \n",
       "2      Home and lifestyle       46.33         7   3/3/2019  13:23:00   \n",
       "3       Health and beauty       58.22         8  1/27/2019  20:33:00   \n",
       "4       Sports and travel       86.31         7   2/8/2019  10:37:00   \n",
       "\n",
       "       Payment  Rating  \n",
       "0      Ewallet     9.1  \n",
       "1         Cash     9.6  \n",
       "2  Credit card     7.4  \n",
       "3      Ewallet     8.4  \n",
       "4      Ewallet     5.3  "
      ]
     },
     "execution_count": 4,
     "metadata": {},
     "output_type": "execute_result"
    }
   ],
   "source": [
    "data.head()"
   ]
  },
  {
   "cell_type": "code",
   "execution_count": 5,
   "id": "98834f66",
   "metadata": {},
   "outputs": [
    {
     "data": {
      "text/plain": [
       "(1000, 12)"
      ]
     },
     "execution_count": 5,
     "metadata": {},
     "output_type": "execute_result"
    }
   ],
   "source": [
    "data.shape"
   ]
  },
  {
   "cell_type": "code",
   "execution_count": 6,
   "id": "7bb53f28",
   "metadata": {},
   "outputs": [
    {
     "name": "stdout",
     "output_type": "stream",
     "text": [
      "<class 'pandas.core.frame.DataFrame'>\n",
      "RangeIndex: 1000 entries, 0 to 999\n",
      "Data columns (total 12 columns):\n",
      " #   Column         Non-Null Count  Dtype  \n",
      "---  ------         --------------  -----  \n",
      " 0   Invoice ID     1000 non-null   object \n",
      " 1   Branch         1000 non-null   object \n",
      " 2   City           1000 non-null   object \n",
      " 3   Customer type  1000 non-null   object \n",
      " 4   Gender         1000 non-null   object \n",
      " 5   Product line   1000 non-null   object \n",
      " 6   Unit price     1000 non-null   float64\n",
      " 7   Quantity       1000 non-null   int64  \n",
      " 8   Date           1000 non-null   object \n",
      " 9   Time           1000 non-null   object \n",
      " 10  Payment        1000 non-null   object \n",
      " 11  Rating         1000 non-null   float64\n",
      "dtypes: float64(2), int64(1), object(9)\n",
      "memory usage: 93.9+ KB\n"
     ]
    }
   ],
   "source": [
    "data.info()"
   ]
  },
  {
   "cell_type": "code",
   "execution_count": 7,
   "id": "24c36057",
   "metadata": {},
   "outputs": [
    {
     "data": {
      "text/plain": [
       "Invoice ID       0\n",
       "Branch           0\n",
       "City             0\n",
       "Customer type    0\n",
       "Gender           0\n",
       "Product line     0\n",
       "Unit price       0\n",
       "Quantity         0\n",
       "Date             0\n",
       "Time             0\n",
       "Payment          0\n",
       "Rating           0\n",
       "dtype: int64"
      ]
     },
     "execution_count": 7,
     "metadata": {},
     "output_type": "execute_result"
    }
   ],
   "source": [
    "data.isnull().sum()"
   ]
  },
  {
   "cell_type": "code",
   "execution_count": 8,
   "id": "a417b140",
   "metadata": {},
   "outputs": [],
   "source": [
    "data['Date'] = pd.to_datetime(data['Date'])"
   ]
  },
  {
   "cell_type": "code",
   "execution_count": 9,
   "id": "a87f18f7",
   "metadata": {},
   "outputs": [
    {
     "data": {
      "text/plain": [
       "array(['Yangon', 'Naypyitaw', 'Mandalay'], dtype=object)"
      ]
     },
     "execution_count": 9,
     "metadata": {},
     "output_type": "execute_result"
    }
   ],
   "source": [
    "data[\"City\"].unique()"
   ]
  },
  {
   "cell_type": "code",
   "execution_count": 10,
   "id": "4aa9524a",
   "metadata": {},
   "outputs": [
    {
     "data": {
      "text/html": [
       "<div>\n",
       "<style scoped>\n",
       "    .dataframe tbody tr th:only-of-type {\n",
       "        vertical-align: middle;\n",
       "    }\n",
       "\n",
       "    .dataframe tbody tr th {\n",
       "        vertical-align: top;\n",
       "    }\n",
       "\n",
       "    .dataframe thead th {\n",
       "        text-align: right;\n",
       "    }\n",
       "</style>\n",
       "<table border=\"1\" class=\"dataframe\">\n",
       "  <thead>\n",
       "    <tr style=\"text-align: right;\">\n",
       "      <th></th>\n",
       "      <th>Invoice ID</th>\n",
       "      <th>Branch</th>\n",
       "      <th>City</th>\n",
       "      <th>Customer type</th>\n",
       "      <th>Gender</th>\n",
       "      <th>Product line</th>\n",
       "      <th>Unit price</th>\n",
       "      <th>Quantity</th>\n",
       "      <th>Date</th>\n",
       "      <th>Time</th>\n",
       "      <th>Payment</th>\n",
       "      <th>Rating</th>\n",
       "    </tr>\n",
       "  </thead>\n",
       "  <tbody>\n",
       "    <tr>\n",
       "      <th>0</th>\n",
       "      <td>750-67-8428</td>\n",
       "      <td>A</td>\n",
       "      <td>Yangon</td>\n",
       "      <td>Member</td>\n",
       "      <td>Female</td>\n",
       "      <td>Health and beauty</td>\n",
       "      <td>74.69</td>\n",
       "      <td>7</td>\n",
       "      <td>2019-01-05</td>\n",
       "      <td>13:08:00</td>\n",
       "      <td>Ewallet</td>\n",
       "      <td>9.1</td>\n",
       "    </tr>\n",
       "    <tr>\n",
       "      <th>1</th>\n",
       "      <td>226-31-3081</td>\n",
       "      <td>A</td>\n",
       "      <td>Naypyitaw</td>\n",
       "      <td>Normal</td>\n",
       "      <td>Female</td>\n",
       "      <td>Electronic accessories</td>\n",
       "      <td>15.28</td>\n",
       "      <td>5</td>\n",
       "      <td>2019-03-08</td>\n",
       "      <td>10:29:00</td>\n",
       "      <td>Cash</td>\n",
       "      <td>9.6</td>\n",
       "    </tr>\n",
       "    <tr>\n",
       "      <th>2</th>\n",
       "      <td>631-41-3108</td>\n",
       "      <td>A</td>\n",
       "      <td>Yangon</td>\n",
       "      <td>Normal</td>\n",
       "      <td>Male</td>\n",
       "      <td>Home and lifestyle</td>\n",
       "      <td>46.33</td>\n",
       "      <td>7</td>\n",
       "      <td>2019-03-03</td>\n",
       "      <td>13:23:00</td>\n",
       "      <td>Credit card</td>\n",
       "      <td>7.4</td>\n",
       "    </tr>\n",
       "    <tr>\n",
       "      <th>3</th>\n",
       "      <td>123-19-1176</td>\n",
       "      <td>B</td>\n",
       "      <td>Yangon</td>\n",
       "      <td>Member</td>\n",
       "      <td>Male</td>\n",
       "      <td>Health and beauty</td>\n",
       "      <td>58.22</td>\n",
       "      <td>8</td>\n",
       "      <td>2019-01-27</td>\n",
       "      <td>20:33:00</td>\n",
       "      <td>Ewallet</td>\n",
       "      <td>8.4</td>\n",
       "    </tr>\n",
       "    <tr>\n",
       "      <th>4</th>\n",
       "      <td>373-73-7910</td>\n",
       "      <td>C</td>\n",
       "      <td>Yangon</td>\n",
       "      <td>Normal</td>\n",
       "      <td>Male</td>\n",
       "      <td>Sports and travel</td>\n",
       "      <td>86.31</td>\n",
       "      <td>7</td>\n",
       "      <td>2019-02-08</td>\n",
       "      <td>10:37:00</td>\n",
       "      <td>Ewallet</td>\n",
       "      <td>5.3</td>\n",
       "    </tr>\n",
       "  </tbody>\n",
       "</table>\n",
       "</div>"
      ],
      "text/plain": [
       "    Invoice ID Branch       City Customer type  Gender  \\\n",
       "0  750-67-8428      A     Yangon        Member  Female   \n",
       "1  226-31-3081      A  Naypyitaw        Normal  Female   \n",
       "2  631-41-3108      A     Yangon        Normal    Male   \n",
       "3  123-19-1176      B     Yangon        Member    Male   \n",
       "4  373-73-7910      C     Yangon        Normal    Male   \n",
       "\n",
       "             Product line  Unit price  Quantity       Date      Time  \\\n",
       "0       Health and beauty       74.69         7 2019-01-05  13:08:00   \n",
       "1  Electronic accessories       15.28         5 2019-03-08  10:29:00   \n",
       "2      Home and lifestyle       46.33         7 2019-03-03  13:23:00   \n",
       "3       Health and beauty       58.22         8 2019-01-27  20:33:00   \n",
       "4       Sports and travel       86.31         7 2019-02-08  10:37:00   \n",
       "\n",
       "       Payment  Rating  \n",
       "0      Ewallet     9.1  \n",
       "1         Cash     9.6  \n",
       "2  Credit card     7.4  \n",
       "3      Ewallet     8.4  \n",
       "4      Ewallet     5.3  "
      ]
     },
     "execution_count": 10,
     "metadata": {},
     "output_type": "execute_result"
    }
   ],
   "source": [
    "data.head()"
   ]
  },
  {
   "cell_type": "code",
   "execution_count": 11,
   "id": "5a997a90",
   "metadata": {},
   "outputs": [],
   "source": [
    "# A.Visualizing the performance of sales and revenue at the city and branch level:\n",
    "city_branch_performance = data.groupby(['City', 'Branch']).agg({'Quantity': 'sum', 'Unit price': 'sum'}).reset_index()"
   ]
  },
  {
   "cell_type": "code",
   "execution_count": 12,
   "id": "dea7262d",
   "metadata": {},
   "outputs": [
    {
     "data": {
      "text/html": [
       "<div>\n",
       "<style scoped>\n",
       "    .dataframe tbody tr th:only-of-type {\n",
       "        vertical-align: middle;\n",
       "    }\n",
       "\n",
       "    .dataframe tbody tr th {\n",
       "        vertical-align: top;\n",
       "    }\n",
       "\n",
       "    .dataframe thead th {\n",
       "        text-align: right;\n",
       "    }\n",
       "</style>\n",
       "<table border=\"1\" class=\"dataframe\">\n",
       "  <thead>\n",
       "    <tr style=\"text-align: right;\">\n",
       "      <th></th>\n",
       "      <th>City</th>\n",
       "      <th>Branch</th>\n",
       "      <th>Quantity</th>\n",
       "      <th>Unit price</th>\n",
       "    </tr>\n",
       "  </thead>\n",
       "  <tbody>\n",
       "    <tr>\n",
       "      <th>0</th>\n",
       "      <td>Mandalay</td>\n",
       "      <td>A</td>\n",
       "      <td>637</td>\n",
       "      <td>6349.11</td>\n",
       "    </tr>\n",
       "    <tr>\n",
       "      <th>1</th>\n",
       "      <td>Mandalay</td>\n",
       "      <td>B</td>\n",
       "      <td>664</td>\n",
       "      <td>6623.73</td>\n",
       "    </tr>\n",
       "    <tr>\n",
       "      <th>2</th>\n",
       "      <td>Mandalay</td>\n",
       "      <td>C</td>\n",
       "      <td>519</td>\n",
       "      <td>5506.04</td>\n",
       "    </tr>\n",
       "    <tr>\n",
       "      <th>3</th>\n",
       "      <td>Naypyitaw</td>\n",
       "      <td>A</td>\n",
       "      <td>648</td>\n",
       "      <td>5953.55</td>\n",
       "    </tr>\n",
       "    <tr>\n",
       "      <th>4</th>\n",
       "      <td>Naypyitaw</td>\n",
       "      <td>B</td>\n",
       "      <td>604</td>\n",
       "      <td>6298.64</td>\n",
       "    </tr>\n",
       "    <tr>\n",
       "      <th>5</th>\n",
       "      <td>Naypyitaw</td>\n",
       "      <td>C</td>\n",
       "      <td>579</td>\n",
       "      <td>6315.57</td>\n",
       "    </tr>\n",
       "    <tr>\n",
       "      <th>6</th>\n",
       "      <td>Yangon</td>\n",
       "      <td>A</td>\n",
       "      <td>598</td>\n",
       "      <td>6342.88</td>\n",
       "    </tr>\n",
       "    <tr>\n",
       "      <th>7</th>\n",
       "      <td>Yangon</td>\n",
       "      <td>B</td>\n",
       "      <td>631</td>\n",
       "      <td>6329.25</td>\n",
       "    </tr>\n",
       "    <tr>\n",
       "      <th>8</th>\n",
       "      <td>Yangon</td>\n",
       "      <td>C</td>\n",
       "      <td>630</td>\n",
       "      <td>5953.36</td>\n",
       "    </tr>\n",
       "  </tbody>\n",
       "</table>\n",
       "</div>"
      ],
      "text/plain": [
       "        City Branch  Quantity  Unit price\n",
       "0   Mandalay      A       637     6349.11\n",
       "1   Mandalay      B       664     6623.73\n",
       "2   Mandalay      C       519     5506.04\n",
       "3  Naypyitaw      A       648     5953.55\n",
       "4  Naypyitaw      B       604     6298.64\n",
       "5  Naypyitaw      C       579     6315.57\n",
       "6     Yangon      A       598     6342.88\n",
       "7     Yangon      B       631     6329.25\n",
       "8     Yangon      C       630     5953.36"
      ]
     },
     "execution_count": 12,
     "metadata": {},
     "output_type": "execute_result"
    }
   ],
   "source": [
    "city_branch_performance"
   ]
  },
  {
   "cell_type": "code",
   "execution_count": 13,
   "id": "afd30084",
   "metadata": {},
   "outputs": [
    {
     "data": {
      "image/png": "[encoded data removed]",
      "text/plain": [
       "<Figure size 1200x800 with 1 Axes>"
      ]
     },
     "metadata": {},
     "output_type": "display_data"
    }
   ],
   "source": [
    "# Visualizing total sales at each branch in each city using Seaborn\n",
    "plt.figure(figsize=(12, 8))\n",
    "sns.barplot(x='Branch', y='Quantity', hue='City', data=city_branch_performance,palette='Set1')\n",
    "plt.xlabel('Branch')\n",
    "plt.ylabel('Total Sales')\n",
    "plt.title('Total Sales at Each Branch of the City')\n",
    "plt.legend(title='City', bbox_to_anchor=(1.05, 1), loc='upper left')\n",
    "plt.show()"
   ]
  },
  {
   "cell_type": "code",
   "execution_count": 20,
   "id": "dee483f0",
   "metadata": {},
   "outputs": [],
   "source": [
    "#B.What is the average price of an item sold at each branch of the city:\n",
    "average_price_per_branch = data.groupby(['City', 'Branch']).agg({'Unit price': 'mean'}).reset_index()"
   ]
  },
  {
   "cell_type": "code",
   "execution_count": 21,
   "id": "3535b237",
   "metadata": {},
   "outputs": [
    {
     "data": {
      "text/html": [
       "<div>\n",
       "<style scoped>\n",
       "    .dataframe tbody tr th:only-of-type {\n",
       "        vertical-align: middle;\n",
       "    }\n",
       "\n",
       "    .dataframe tbody tr th {\n",
       "        vertical-align: top;\n",
       "    }\n",
       "\n",
       "    .dataframe thead th {\n",
       "        text-align: right;\n",
       "    }\n",
       "</style>\n",
       "<table border=\"1\" class=\"dataframe\">\n",
       "  <thead>\n",
       "    <tr style=\"text-align: right;\">\n",
       "      <th></th>\n",
       "      <th>City</th>\n",
       "      <th>Branch</th>\n",
       "      <th>Unit price</th>\n",
       "    </tr>\n",
       "  </thead>\n",
       "  <tbody>\n",
       "    <tr>\n",
       "      <th>0</th>\n",
       "      <td>Mandalay</td>\n",
       "      <td>A</td>\n",
       "      <td>53.353866</td>\n",
       "    </tr>\n",
       "    <tr>\n",
       "      <th>1</th>\n",
       "      <td>Mandalay</td>\n",
       "      <td>B</td>\n",
       "      <td>56.133305</td>\n",
       "    </tr>\n",
       "    <tr>\n",
       "      <th>2</th>\n",
       "      <td>Mandalay</td>\n",
       "      <td>C</td>\n",
       "      <td>57.958316</td>\n",
       "    </tr>\n",
       "    <tr>\n",
       "      <th>3</th>\n",
       "      <td>Naypyitaw</td>\n",
       "      <td>A</td>\n",
       "      <td>54.123182</td>\n",
       "    </tr>\n",
       "    <tr>\n",
       "      <th>4</th>\n",
       "      <td>Naypyitaw</td>\n",
       "      <td>B</td>\n",
       "      <td>57.785688</td>\n",
       "    </tr>\n",
       "    <tr>\n",
       "      <th>5</th>\n",
       "      <td>Naypyitaw</td>\n",
       "      <td>C</td>\n",
       "      <td>57.941009</td>\n",
       "    </tr>\n",
       "    <tr>\n",
       "      <th>6</th>\n",
       "      <td>Yangon</td>\n",
       "      <td>A</td>\n",
       "      <td>55.639298</td>\n",
       "    </tr>\n",
       "    <tr>\n",
       "      <th>7</th>\n",
       "      <td>Yangon</td>\n",
       "      <td>B</td>\n",
       "      <td>56.011062</td>\n",
       "    </tr>\n",
       "    <tr>\n",
       "      <th>8</th>\n",
       "      <td>Yangon</td>\n",
       "      <td>C</td>\n",
       "      <td>52.684602</td>\n",
       "    </tr>\n",
       "  </tbody>\n",
       "</table>\n",
       "</div>"
      ],
      "text/plain": [
       "        City Branch  Unit price\n",
       "0   Mandalay      A   53.353866\n",
       "1   Mandalay      B   56.133305\n",
       "2   Mandalay      C   57.958316\n",
       "3  Naypyitaw      A   54.123182\n",
       "4  Naypyitaw      B   57.785688\n",
       "5  Naypyitaw      C   57.941009\n",
       "6     Yangon      A   55.639298\n",
       "7     Yangon      B   56.011062\n",
       "8     Yangon      C   52.684602"
      ]
     },
     "execution_count": 21,
     "metadata": {},
     "output_type": "execute_result"
    }
   ],
   "source": [
    "average_price_per_branch"
   ]
  },
  {
   "cell_type": "code",
   "execution_count": 22,
   "id": "4935c4aa",
   "metadata": {},
   "outputs": [
    {
     "data": {
      "text/plain": [
       "Index(['City', 'Branch', 'Unit price'], dtype='object')"
      ]
     },
     "execution_count": 22,
     "metadata": {},
     "output_type": "execute_result"
    }
   ],
   "source": [
    "average_price_per_branch.columns"
   ]
  },
  {
   "cell_type": "code",
   "execution_count": 24,
   "id": "0d08c382",
   "metadata": {},
   "outputs": [
    {
     "data": {
      "image/png": "[encoded data removed]",
      "text/plain": [
       "<Figure size 1200x800 with 1 Axes>"
      ]
     },
     "metadata": {},
     "output_type": "display_data"
    }
   ],
   "source": [
    "# Visualizing average price at each branch in each city using Seaborn\n",
    "plt.figure(figsize=(12, 8))\n",
    "sns.barplot(x='Branch', y='Unit price', hue='City', data=average_price_per_branch,palette='viridis', edgecolor='black', dodge=True)\n",
    "plt.xlabel('Branch')\n",
    "plt.ylabel('Average Price')\n",
    "plt.title('Average Price of an Item Sold at Each Branch of the City')\n",
    "plt.legend(title='City', bbox_to_anchor=(1.05, 1), loc='upper left')\n",
    "plt.show()"
   ]
  },
  {
   "cell_type": "code",
   "execution_count": 25,
   "id": "44164473",
   "metadata": {},
   "outputs": [],
   "source": [
    "#C.Analyze the performance of sales and revenue Month over Month across Product line, Gender, and Payment Method:"
   ]
  },
  {
   "cell_type": "code",
   "execution_count": 97,
   "id": "2bd9c064",
   "metadata": {},
   "outputs": [],
   "source": [
    "monthly_data = data.groupby(['Product line', 'Gender', 'Payment']).agg({\n",
    "    'Quantity': 'sum',\n",
    "    'Unit price': 'mean',\n",
    "    'Rating': 'mean'\n",
    "}).reset_index()"
   ]
  },
  {
   "cell_type": "code",
   "execution_count": 98,
   "id": "9e252be9",
   "metadata": {},
   "outputs": [],
   "source": [
    "# Calculate total sales for each category\n",
    "monthly_data['Total Sales'] = monthly_data['Quantity'] * monthly_data['Unit price']"
   ]
  },
  {
   "cell_type": "code",
   "execution_count": 99,
   "id": "713cda2f",
   "metadata": {},
   "outputs": [],
   "source": [
    "# Pivot the data for easy visualization\n",
    "pivot_data = monthly_data.pivot_table(values='Total Sales', index=['Product line', 'Gender'],\n",
    "                                      columns='Payment', aggfunc='sum').reset_index()"
   ]
  },
  {
   "cell_type": "code",
   "execution_count": 100,
   "id": "a4de34ab",
   "metadata": {},
   "outputs": [
    {
     "data": {
      "text/html": [
       "<div>\n",
       "<style scoped>\n",
       "    .dataframe tbody tr th:only-of-type {\n",
       "        vertical-align: middle;\n",
       "    }\n",
       "\n",
       "    .dataframe tbody tr th {\n",
       "        vertical-align: top;\n",
       "    }\n",
       "\n",
       "    .dataframe thead th {\n",
       "        text-align: right;\n",
       "    }\n",
       "</style>\n",
       "<table border=\"1\" class=\"dataframe\">\n",
       "  <thead>\n",
       "    <tr style=\"text-align: right;\">\n",
       "      <th>Payment</th>\n",
       "      <th>Product line</th>\n",
       "      <th>Gender</th>\n",
       "      <th>Cash</th>\n",
       "      <th>Credit card</th>\n",
       "      <th>Ewallet</th>\n",
       "    </tr>\n",
       "  </thead>\n",
       "  <tbody>\n",
       "    <tr>\n",
       "      <th>0</th>\n",
       "      <td>Electronic accessories</td>\n",
       "      <td>Female</td>\n",
       "      <td>11341.438421</td>\n",
       "      <td>7725.707308</td>\n",
       "      <td>6198.531500</td>\n",
       "    </tr>\n",
       "    <tr>\n",
       "      <th>1</th>\n",
       "      <td>Electronic accessories</td>\n",
       "      <td>Male</td>\n",
       "      <td>9324.916364</td>\n",
       "      <td>6227.260500</td>\n",
       "      <td>10931.087879</td>\n",
       "    </tr>\n",
       "    <tr>\n",
       "      <th>2</th>\n",
       "      <td>Fashion accessories</td>\n",
       "      <td>Female</td>\n",
       "      <td>9356.971429</td>\n",
       "      <td>9245.644242</td>\n",
       "      <td>10860.328571</td>\n",
       "    </tr>\n",
       "    <tr>\n",
       "      <th>3</th>\n",
       "      <td>Fashion accessories</td>\n",
       "      <td>Male</td>\n",
       "      <td>7639.200000</td>\n",
       "      <td>7122.052174</td>\n",
       "      <td>7178.864000</td>\n",
       "    </tr>\n",
       "    <tr>\n",
       "      <th>4</th>\n",
       "      <td>Food and beverages</td>\n",
       "      <td>Female</td>\n",
       "      <td>11660.926364</td>\n",
       "      <td>9673.194194</td>\n",
       "      <td>9549.046154</td>\n",
       "    </tr>\n",
       "    <tr>\n",
       "      <th>5</th>\n",
       "      <td>Food and beverages</td>\n",
       "      <td>Male</td>\n",
       "      <td>6375.226667</td>\n",
       "      <td>8613.389333</td>\n",
       "      <td>7536.618000</td>\n",
       "    </tr>\n",
       "    <tr>\n",
       "      <th>6</th>\n",
       "      <td>Health and beauty</td>\n",
       "      <td>Female</td>\n",
       "      <td>6202.636364</td>\n",
       "      <td>5279.218421</td>\n",
       "      <td>5984.257391</td>\n",
       "    </tr>\n",
       "    <tr>\n",
       "      <th>7</th>\n",
       "      <td>Health and beauty</td>\n",
       "      <td>Male</td>\n",
       "      <td>9478.029259</td>\n",
       "      <td>9941.054516</td>\n",
       "      <td>9906.808333</td>\n",
       "    </tr>\n",
       "    <tr>\n",
       "      <th>8</th>\n",
       "      <td>Home and lifestyle</td>\n",
       "      <td>Female</td>\n",
       "      <td>8783.188750</td>\n",
       "      <td>9045.323077</td>\n",
       "      <td>10599.065172</td>\n",
       "    </tr>\n",
       "    <tr>\n",
       "      <th>9</th>\n",
       "      <td>Home and lifestyle</td>\n",
       "      <td>Male</td>\n",
       "      <td>8819.553333</td>\n",
       "      <td>3896.668421</td>\n",
       "      <td>9463.372286</td>\n",
       "    </tr>\n",
       "    <tr>\n",
       "      <th>10</th>\n",
       "      <td>Sports and travel</td>\n",
       "      <td>Female</td>\n",
       "      <td>9800.098182</td>\n",
       "      <td>7671.803571</td>\n",
       "      <td>9550.339259</td>\n",
       "    </tr>\n",
       "    <tr>\n",
       "      <th>11</th>\n",
       "      <td>Sports and travel</td>\n",
       "      <td>Male</td>\n",
       "      <td>8418.818462</td>\n",
       "      <td>9294.679600</td>\n",
       "      <td>7761.193704</td>\n",
       "    </tr>\n",
       "  </tbody>\n",
       "</table>\n",
       "</div>"
      ],
      "text/plain": [
       "Payment            Product line  Gender          Cash  Credit card  \\\n",
       "0        Electronic accessories  Female  11341.438421  7725.707308   \n",
       "1        Electronic accessories    Male   9324.916364  6227.260500   \n",
       "2           Fashion accessories  Female   9356.971429  9245.644242   \n",
       "3           Fashion accessories    Male   7639.200000  7122.052174   \n",
       "4            Food and beverages  Female  11660.926364  9673.194194   \n",
       "5            Food and beverages    Male   6375.226667  8613.389333   \n",
       "6             Health and beauty  Female   6202.636364  5279.218421   \n",
       "7             Health and beauty    Male   9478.029259  9941.054516   \n",
       "8            Home and lifestyle  Female   8783.188750  9045.323077   \n",
       "9            Home and lifestyle    Male   8819.553333  3896.668421   \n",
       "10            Sports and travel  Female   9800.098182  7671.803571   \n",
       "11            Sports and travel    Male   8418.818462  9294.679600   \n",
       "\n",
       "Payment       Ewallet  \n",
       "0         6198.531500  \n",
       "1        10931.087879  \n",
       "2        10860.328571  \n",
       "3         7178.864000  \n",
       "4         9549.046154  \n",
       "5         7536.618000  \n",
       "6         5984.257391  \n",
       "7         9906.808333  \n",
       "8        10599.065172  \n",
       "9         9463.372286  \n",
       "10        9550.339259  \n",
       "11        7761.193704  "
      ]
     },
     "execution_count": 100,
     "metadata": {},
     "output_type": "execute_result"
    }
   ],
   "source": [
    "pivot_data"
   ]
  },
  {
   "cell_type": "code",
   "execution_count": 101,
   "id": "36874e4a",
   "metadata": {},
   "outputs": [],
   "source": [
    "# Identify focus areas based on the total sales for March and April\n",
    "focus_areas = pivot_data[['Product line', 'Gender', 'Ewallet', 'Cash']].copy()\n",
    "focus_areas['MoM Growth'] = (focus_areas['Cash'] - focus_areas['Ewallet']) / focus_areas['Ewallet'] * 100"
   ]
  },
  {
   "cell_type": "code",
   "execution_count": 102,
   "id": "5eba28f2",
   "metadata": {},
   "outputs": [
    {
     "data": {
      "text/html": [
       "<div>\n",
       "<style scoped>\n",
       "    .dataframe tbody tr th:only-of-type {\n",
       "        vertical-align: middle;\n",
       "    }\n",
       "\n",
       "    .dataframe tbody tr th {\n",
       "        vertical-align: top;\n",
       "    }\n",
       "\n",
       "    .dataframe thead th {\n",
       "        text-align: right;\n",
       "    }\n",
       "</style>\n",
       "<table border=\"1\" class=\"dataframe\">\n",
       "  <thead>\n",
       "    <tr style=\"text-align: right;\">\n",
       "      <th>Payment</th>\n",
       "      <th>Product line</th>\n",
       "      <th>Gender</th>\n",
       "      <th>Ewallet</th>\n",
       "      <th>Cash</th>\n",
       "      <th>MoM Growth</th>\n",
       "    </tr>\n",
       "  </thead>\n",
       "  <tbody>\n",
       "    <tr>\n",
       "      <th>0</th>\n",
       "      <td>Electronic accessories</td>\n",
       "      <td>Female</td>\n",
       "      <td>6198.531500</td>\n",
       "      <td>11341.438421</td>\n",
       "      <td>82.969763</td>\n",
       "    </tr>\n",
       "    <tr>\n",
       "      <th>4</th>\n",
       "      <td>Food and beverages</td>\n",
       "      <td>Female</td>\n",
       "      <td>9549.046154</td>\n",
       "      <td>11660.926364</td>\n",
       "      <td>22.116138</td>\n",
       "    </tr>\n",
       "    <tr>\n",
       "      <th>11</th>\n",
       "      <td>Sports and travel</td>\n",
       "      <td>Male</td>\n",
       "      <td>7761.193704</td>\n",
       "      <td>8418.818462</td>\n",
       "      <td>8.473242</td>\n",
       "    </tr>\n",
       "    <tr>\n",
       "      <th>3</th>\n",
       "      <td>Fashion accessories</td>\n",
       "      <td>Male</td>\n",
       "      <td>7178.864000</td>\n",
       "      <td>7639.200000</td>\n",
       "      <td>6.412379</td>\n",
       "    </tr>\n",
       "    <tr>\n",
       "      <th>6</th>\n",
       "      <td>Health and beauty</td>\n",
       "      <td>Female</td>\n",
       "      <td>5984.257391</td>\n",
       "      <td>6202.636364</td>\n",
       "      <td>3.649224</td>\n",
       "    </tr>\n",
       "  </tbody>\n",
       "</table>\n",
       "</div>"
      ],
      "text/plain": [
       "Payment            Product line  Gender      Ewallet          Cash  MoM Growth\n",
       "0        Electronic accessories  Female  6198.531500  11341.438421   82.969763\n",
       "4            Food and beverages  Female  9549.046154  11660.926364   22.116138\n",
       "11            Sports and travel    Male  7761.193704   8418.818462    8.473242\n",
       "3           Fashion accessories    Male  7178.864000   7639.200000    6.412379\n",
       "6             Health and beauty  Female  5984.257391   6202.636364    3.649224"
      ]
     },
     "execution_count": 102,
     "metadata": {},
     "output_type": "execute_result"
    }
   ],
   "source": [
    "# Display focus areas with the highest MoM growth\n",
    "top_focus_areas = focus_areas.sort_values(by='MoM Growth', ascending=False).head(5)\n",
    "top_focus_areas"
   ]
  },
  {
   "cell_type": "code",
   "execution_count": 107,
   "id": "bbc8759d",
   "metadata": {},
   "outputs": [
    {
     "data": {
      "image/png": "[encoded data removed]",
      "text/plain": [
       "<Figure size 1200x600 with 1 Axes>"
      ]
     },
     "metadata": {},
     "output_type": "display_data"
    }
   ],
   "source": [
    "sns.set(style=\"whitegrid\")\n",
    "plt.figure(figsize=(12, 6))\n",
    "bar_plot = sns.barplot(x='MoM Growth', y='Product line', hue='Gender', data=top_focus_areas, palette= 'magma')\n",
    "bar_plot.set(xlabel='MoM Growth (%)', ylabel='Product Line', title='Top Focus Areas for Sales')\n",
    "plt.legend(title='Gender', loc='upper right')\n",
    "plt.show()"
   ]
  },
  {
   "cell_type": "code",
   "execution_count": null,
   "id": "1a529722",
   "metadata": {},
   "outputs": [],
   "source": []
  }
 ],
 "metadata": {
  "kernelspec": {
   "display_name": "Python 3 (ipykernel)",
   "language": "python",
   "name": "python3"
  },
  "language_info": {
   "codemirror_mode": {
    "name": "ipython",
    "version": 3
   },
   "file_extension": ".py",
   "mimetype": "text/x-python",
   "name": "python",
   "nbconvert_exporter": "python",
   "pygments_lexer": "ipython3",
   "version": "3.11.5"
  }
 },
 "nbformat": 4,
 "nbformat_minor": 5
}
